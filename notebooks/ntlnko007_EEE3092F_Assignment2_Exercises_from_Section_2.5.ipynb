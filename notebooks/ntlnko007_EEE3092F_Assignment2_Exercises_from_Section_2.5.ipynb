{
 "cells": [
  {
   "cell_type": "markdown",
   "metadata": {},
   "source": [
    "# EEE3092F Assignment 2 - Julia Exercises_Section_2.5"
   ]
  },
  {
   "cell_type": "markdown",
   "metadata": {},
   "source": [
    "#### PLAGIARISM STATEMENT\n",
    "\n",
    "I certify that this assignment/report is my own work, based on my personal\n",
    "study and/or research and that I have acknowledged all material and sources\n",
    "used in its preparation, and that I\n",
    "have not copied in part or whole or otherwise plagiarised the work of other\n",
    "students and/or persons.\n",
    "\n",
    "Name: Nkosinathi Ntuli (NTLNKO007)\n",
    "\n",
    "Date: 15 April 2022"
   ]
  },
  {
   "cell_type": "markdown",
   "metadata": {},
   "source": [
    "### Exercise 2.5.1 – Visualising Sampled Sinusoid"
   ]
  },
  {
   "cell_type": "code",
   "execution_count": null,
   "metadata": {},
   "outputs": [],
   "source": [
    "using Pkg"
   ]
  },
  {
   "cell_type": "code",
   "execution_count": null,
   "metadata": {
    "scrolled": true
   },
   "outputs": [],
   "source": [
    "Pkg.add([\"Plots\", \"PlotlyBase\"])\n"
   ]
  },
  {
   "cell_type": "code",
   "execution_count": null,
   "metadata": {},
   "outputs": [],
   "source": [
    "using Plots\n",
    "#plotly() \n",
    "# commenting out plotly and use gr to reduce the file size for submission\n",
    "gr()"
   ]
  },
  {
   "cell_type": "markdown",
   "metadata": {},
   "source": [
    "a) Calculate the energy via numerical integration."
   ]
  },
  {
   "cell_type": "code",
   "execution_count": null,
   "metadata": {},
   "outputs": [],
   "source": [
    "t1=-10 ; t2= 10 ; Δt= 0.001 ;\n",
    "t=t1:Δt:t2; # or use t=range(t1, t2, step=Δt)\n",
    "\n",
    "function my_function(t, f)\n",
    "    r = cos.(2 * π * f * t)\n",
    "    return r\n",
    "end\n",
    "\n",
    "x = my_function(t, 0.2) # fill an array x with function values\n",
    "ipower = (abs.(x)).^2 # instantaneous power\n",
    "energy = sum(ipower)*Δt # Calculate energy by integration\n",
    "\n",
    "#default(size=(600,300))\n",
    "#figure()\n",
    "fig = plot(t, x, ticks=:native, label = \"x\", title = \"x(t) = cos(2πft) \\n\", xlabel = \"t\", ylabel = \"x(t)\");\n",
    "display(fig);\n",
    "\n",
    "fig = plot(t, ipower, ticks=:native, label = \"p\", title = \"p(t) = |x(t)|^2\", xlabel = \"t\", ylabel = \"p(t)\")\n",
    "display(fig)\n",
    "println(\"Energy = ∫|x(t)|^2.dt = \",energy)\n"
   ]
  },
  {
   "cell_type": "markdown",
   "metadata": {},
   "source": [
    "b) Calculate the energy of a sinusoidal pulse of length T=1 second, and frequency f=6Hz, and amplitude A=10. "
   ]
  },
  {
   "cell_type": "code",
   "execution_count": null,
   "metadata": {},
   "outputs": [],
   "source": [
    "f0 = 6\n",
    "A = 10\n",
    "T = 1\n",
    "rect(t)=(abs.(t).<=0.5).*1.0\n",
    "\n",
    "x_t=A*rect(t/T).*cos.(2*π*f0*t)\n",
    "\n",
    "p = (abs.(x_t)).^2 # instantaneous power\n",
    "E = sum(p)*Δt # Calculate energy by integration\n",
    "println(\"The energy is = $E\")\n",
    "\n",
    "\n",
    "fig = plot(t, x_t, ticks=:native, label = \"x\", title = \"x(t)=10rect(t/T) * cos(2πft) \\n\", xlabel = \"t\", ylabel = \"x(t)\");\n",
    "display(fig);\n",
    "\n",
    "fig = plot(t, p, ticks=:native, label = \"p\", title = \"Instantaneous power: p(t) = |x(t)|^2 \\n\", xlabel = \"t\", ylabel = \"p(t)\")\n",
    "display(fig)\n",
    "\n"
   ]
  },
  {
   "cell_type": "markdown",
   "metadata": {},
   "source": [
    "c) Calculate the energy of the impulse response of an ideal LPF of unit-gain and bandwidth B=1Hz"
   ]
  },
  {
   "cell_type": "code",
   "execution_count": null,
   "metadata": {},
   "outputs": [],
   "source": [
    "function h_t(t, B)\n",
    "    x = 2π * B * t\n",
    "    h = 2 * B * sin.(x)./x\n",
    "    md = convert(Int64, floor(length(h) / 2)) + 1\n",
    "    h[md]=2*B\n",
    "    return h\n",
    "end\n",
    "\n",
    "# B = 1 Hz in this case\n",
    "t0=-10:0.001:10\n",
    "h0 = h_t(t0, 1)\n",
    "\n",
    "x0=1*rect(t0/T).*h0\n",
    "\n",
    "p0 = (abs.(x0)).^2 # instantaneous power\n",
    "E0 = sum(p0)*0.001 # Calculate energy by integration\n",
    "println(\"The energy is = $E0\")"
   ]
  },
  {
   "cell_type": "markdown",
   "metadata": {},
   "source": [
    "### Exercise 2.x.2 - Plotting filter impulse response"
   ]
  },
  {
   "cell_type": "markdown",
   "metadata": {},
   "source": [
    "a) Plot the waveform _h(t)=2*B*Sa(2*π*B*t)_ for case B = 1Hz."
   ]
  },
  {
   "cell_type": "code",
   "execution_count": null,
   "metadata": {},
   "outputs": [],
   "source": [
    "# Using h(t) from question 2.1\n",
    "\n",
    "B = 1 \n",
    "t = - 10 * B: 0.001 : 10 * B\n",
    "\n",
    "h = h_t(t,B)\n",
    "\n",
    "fig = plot(t, h, ticks=:native, label = \"h\", title = \"Impulse Responce of an ideal LPF\", xlabel = \"t\", ylabel = \"h(t)\");\n",
    "display(fig);"
   ]
  },
  {
   "cell_type": "markdown",
   "metadata": {},
   "source": [
    "b) By inspection of the waveform (and/or samples displayed) determine the approximate width of the main lobe, measured between the 3dB points.\n",
    "(it should be approximately δt ≈0.44/B)"
   ]
  },
  {
   "cell_type": "code",
   "execution_count": null,
   "metadata": {},
   "outputs": [],
   "source": [
    "function half_3dB_width(func, val)\n",
    "    k = 1;\n",
    "    len = length(func);\n",
    "    while k <= len\n",
    "        if func[k] >= val\n",
    "            return t[k]\n",
    "        end\n",
    "        k += 1\n",
    "    end\n",
    "    return 0\n",
    "end\n",
    "\n",
    "#δt = 0.44 / B\n",
    "δt = 2 * abs(half_3dB_width(h, 2 * B * 0.707))\n",
    "\n",
    "\n",
    "println(\"The 3dB Width is: δt ≈ $δt\");"
   ]
  },
  {
   "cell_type": "markdown",
   "metadata": {},
   "source": [
    "c) Plot the impulse response of an ideal BPF, of bandwidth B and centre frequency ω0. Specify B = 1Hz and centre frequency f = 4Hz."
   ]
  },
  {
   "cell_type": "code",
   "execution_count": null,
   "metadata": {},
   "outputs": [],
   "source": [
    "f1 = 4\n",
    "w0 = 2 * π * f1 \n",
    "B = 1\n",
    "t1 = -10: 0.001 : 10\n",
    "\n",
    "#T = 2 * π * B\n",
    "#w = -1.2 * w0 : 0.1 : 1.2 * w0\n",
    "#Hw = rect.((w .+ w0)/T) + rect.((w .- w0)/T)\n",
    "\n",
    "h1= h_t(t1, B) .* cos.(w0 .* t1)\n",
    "\n",
    "fig = plot(t1, h1, ticks=:native, label = \"h\", title = \"Impulse Responce of an ideal BPF\", xlabel = \"t\", ylabel = \"h(t)\");\n",
    "display(fig);"
   ]
  },
  {
   "cell_type": "markdown",
   "metadata": {},
   "source": [
    "### Exercise 2.x.3 - Step response via integration"
   ]
  },
  {
   "cell_type": "markdown",
   "metadata": {},
   "source": [
    "a) Calculate and plot the step response of an ideal LPF for case B=1 Hz. The impulse response is _h(t)=2*B*Sa(2*π*B*t)_"
   ]
  },
  {
   "cell_type": "code",
   "execution_count": null,
   "metadata": {},
   "outputs": [],
   "source": [
    "Δτ = 0.001\n",
    "t2=-10:Δτ:10\n",
    "B = 1\n",
    "\n",
    "#t0 = t1\n",
    "#t_Δ = t0 .+ Δτ * t\n",
    "\n",
    "\n",
    "h2 = h_t(t2, B) # impulse response function\n",
    "#println(h2)\n",
    "y = cumsum(h2)*Δτ # cumulatively integrate\n",
    "\n",
    "fig = plot(t2, h2, ticks=:native, label = \"h\", title = \"Impulse response function\", xlabel = \"t\", ylabel = \"h(t)\");\n",
    "display(fig);\n",
    "\n",
    "fig = plot(t2, y, ticks=:native, label = \"y\", title = \"Cumulative integration of the impulse response\", xlabel = \"t\", ylabel = \"cumsum(h)\");\n",
    "display(fig);"
   ]
  },
  {
   "cell_type": "markdown",
   "metadata": {},
   "source": [
    "b) By inspection/analysis of the step response, determine the 10% to 90% rise time. Does the value agree with the value stated in Section 2.2. of the lecture notes? i.e. tr = 0.446/B ≈ 1/(2B)."
   ]
  },
  {
   "cell_type": "code",
   "execution_count": null,
   "metadata": {},
   "outputs": [],
   "source": [
    "rise_t = half_3dB_width(y, 0.9) - half_3dB_width(y, 0.1)\n",
    "rise_time = 0.446 / B\n",
    "\n",
    "println(\"The observed rise time  is $rise_t\");\n",
    "println(\"The value of 0.446/B = $rise_time\")"
   ]
  },
  {
   "cell_type": "markdown",
   "metadata": {},
   "source": [
    "Yes.\n"
   ]
  },
  {
   "cell_type": "markdown",
   "metadata": {},
   "source": [
    "### Exercise 2.4 - Plotting Periodic functions"
   ]
  },
  {
   "cell_type": "markdown",
   "metadata": {},
   "source": [
    "a) Plot the function _4*cos(20*π*t)_ as a function of t over a specified interval from t1 to t2\n",
    "with a specified time step Δt"
   ]
  },
  {
   "cell_type": "code",
   "execution_count": null,
   "metadata": {},
   "outputs": [],
   "source": [
    "t3= 0 : 0.001: 0.2\n",
    "g = 4*cos.(20π*t3)\n",
    "\n",
    "\n",
    "fig = plot(t3, g, ticks=:native, label = \"g\", title = \"g(t) = 4cos(20πt)\", xlabel = \"t\", ylabel = \"g(t)\");\n",
    "display(fig);"
   ]
  },
  {
   "cell_type": "markdown",
   "metadata": {},
   "source": [
    "b) Plot the function 2*cos(30*π*t) over the same interval"
   ]
  },
  {
   "cell_type": "code",
   "execution_count": null,
   "metadata": {},
   "outputs": [],
   "source": [
    "f = 2*cos.(30π*t3)\n",
    "\n",
    "fig = plot(t3, f, ticks=:native, label = \"f\", title = \"f(t) = 2cos(30πt)\", xlabel = \"t\", ylabel = \"f(t)\");\n",
    "display(fig);"
   ]
  },
  {
   "cell_type": "markdown",
   "metadata": {},
   "source": [
    "c) Plot _v(t) = 4*cos(20*π*t) + 2*cos(30*π*t)_ over the same interval"
   ]
  },
  {
   "cell_type": "code",
   "execution_count": null,
   "metadata": {},
   "outputs": [],
   "source": [
    "v = g .+ f\n",
    "\n",
    "fig = plot(t3, v, ticks=:native, label = \"v\", title = \"v(t) = 4cos(20πt) + 2cos(30πt)\", xlabel = \"t\", ylabel = \"v(t)\");\n",
    "display(fig);"
   ]
  },
  {
   "cell_type": "markdown",
   "metadata": {},
   "source": [
    "d) By inspection of your plot, determine the period of the waveform v(t) in seconds, and use it to calculate the fundamental frequency. "
   ]
  },
  {
   "cell_type": "code",
   "execution_count": null,
   "metadata": {},
   "outputs": [],
   "source": [
    "period = 0.2\n",
    "\n",
    "\n",
    "println(\"Period : $period s\")\n",
    "println(\"Fundamental Frequency : $(1 / period) Hz\")"
   ]
  },
  {
   "cell_type": "markdown",
   "metadata": {},
   "source": [
    "### Exercise 2.x.5 – Plotting Magnitude and Phase"
   ]
  },
  {
   "cell_type": "markdown",
   "metadata": {},
   "source": [
    "a)  Plot the magnitude using function call abs.()"
   ]
  },
  {
   "cell_type": "code",
   "execution_count": null,
   "metadata": {},
   "outputs": [],
   "source": [
    "R = 1\n",
    "C = 0.5\n",
    "\n",
    "Δω = 0.001\n",
    "ω = -15:Δω:15\n",
    "\n",
    "H(ω)= (ω*R*C)im/(1+(ω*R*C)im)\n",
    "\n",
    "H1 = abs.(H.(ω))\n",
    "\n",
    "fig = plot(ω, H1, ticks=:native, label = \"H\", title = \"|H(ω)|\", xlabel = \"ω\", ylabel = \"H\");\n",
    "display(fig);"
   ]
  },
  {
   "cell_type": "markdown",
   "metadata": {},
   "source": [
    "b) Plot the phase using function angle.()"
   ]
  },
  {
   "cell_type": "code",
   "execution_count": null,
   "metadata": {},
   "outputs": [],
   "source": [
    "P = angle.(H.(ω))\n",
    "\n",
    "fig = plot(ω, P, ticks=:native, label = \"P\", title = \"Phase\", xlabel = \"ω\", ylabel = \"phase\");\n",
    "display(fig);"
   ]
  },
  {
   "cell_type": "markdown",
   "metadata": {},
   "source": [
    "c)  Plot the real part using function real()"
   ]
  },
  {
   "cell_type": "code",
   "execution_count": null,
   "metadata": {},
   "outputs": [],
   "source": [
    "Re = real.(H.(ω))\n",
    "\n",
    "fig = plot(ω, Re, ticks=:native, label = \"Re\", title = \"Real Part\", xlabel = \"ω\", ylabel = \"Re\");\n",
    "display(fig);"
   ]
  },
  {
   "cell_type": "markdown",
   "metadata": {},
   "source": [
    "d) Plot the imaginary part using function imag()"
   ]
  },
  {
   "cell_type": "code",
   "execution_count": null,
   "metadata": {},
   "outputs": [],
   "source": [
    "Im = imag.(H.(ω))\n",
    "\n",
    "fig = plot(ω, Im, ticks=:native, label = \"Im\", title = \"Imaginary Part\", xlabel = \"ω\", ylabel = \"Im\");\n",
    "display(fig);"
   ]
  },
  {
   "cell_type": "markdown",
   "metadata": {},
   "source": [
    "e)  Determine |H(ωc)| and calculate the ratio |H(inf)|/|H(ωc)| where H(inf)=limω→∞ H (ω) also convert the ratio to dB."
   ]
  },
  {
   "cell_type": "code",
   "execution_count": null,
   "metadata": {},
   "outputs": [],
   "source": [
    "mag = abs(H(1/(R*C))) # |H(ωc)| \n",
    "println(\"|H(ωc)| = $mag \\n\")\n",
    "\n",
    "infinity = round(abs(H(BigInt(typemax(Int64)))), digits=5, base=4) # |H(inf)|\n",
    "println(\"|H(inf)| = $infinity\\n\")\n",
    "\n",
    "ratio = round(infinity/mag, digits=5, base=4)\n",
    "\n",
    "println(\"|H(inf)|/|H(ωc)| = $ratio\\n\")\n",
    "\n",
    "r_dB = round(10*log10(ratio), digits=5, base=4)\n",
    "\n",
    "println(\"The ratio in dB = $r_dB\")"
   ]
  }
 ],
 "metadata": {
  "kernelspec": {
   "display_name": "Julia 1.4.1",
   "language": "julia",
   "name": "julia-1.4"
  },
  "language_info": {
   "file_extension": ".jl",
   "mimetype": "application/julia",
   "name": "julia",
   "version": "1.4.1"
  }
 },
 "nbformat": 4,
 "nbformat_minor": 4
}
